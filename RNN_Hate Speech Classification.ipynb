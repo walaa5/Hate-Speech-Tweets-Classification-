{
  "nbformat": 4,
  "nbformat_minor": 0,
  "metadata": {
    "colab": {
      "name": "1_Smart_WalaaAhmed.ipynb",
      "provenance": []
    },
    "kernelspec": {
      "name": "python3",
      "display_name": "Python 3"
    },
    "language_info": {
      "name": "python"
    },
    "accelerator": "GPU",
    "gpuClass": "standard"
  },
  "cells": [
    {
      "cell_type": "markdown",
      "source": [
        "## Import Libraries"
      ],
      "metadata": {
        "id": "vUNlaUd7egF4"
      }
    },
    {
      "cell_type": "code",
      "execution_count": 1,
      "metadata": {
        "colab": {
          "base_uri": "https://localhost:8080/"
        },
        "id": "CBIFGO-reV9h",
        "outputId": "300c3dc5-342a-4c9e-fe0d-7ca3c13b4007"
      },
      "outputs": [
        {
          "output_type": "stream",
          "name": "stderr",
          "text": [
            "[nltk_data] Downloading package punkt to /root/nltk_data...\n",
            "[nltk_data]   Unzipping tokenizers/punkt.zip.\n"
          ]
        }
      ],
      "source": [
        "import pandas as pd\n",
        "import numpy as np\n",
        "import matplotlib.pyplot as plt\n",
        "import spacy\n",
        "import nltk\n",
        "nltk.download('punkt')\n",
        "\n",
        "from nltk.tokenize import word_tokenize\n",
        "from sklearn.model_selection import train_test_split\n",
        "from sklearn.metrics import accuracy_score, classification_report, confusion_matrix, ConfusionMatrixDisplay, precision_score\n",
        "\n",
        "import tensorflow as tf\n",
        "from keras.preprocessing.text import text_to_word_sequence\n",
        "from keras.preprocessing.text import Tokenizer\n",
        "from keras.preprocessing.sequence import pad_sequences\n",
        "from keras import models\n",
        "from keras import layers\n",
        "from keras import losses\n",
        "from keras import metrics\n",
        "from keras import optimizers"
      ]
    },
    {
      "cell_type": "markdown",
      "source": [
        "## Load Dataset"
      ],
      "metadata": {
        "id": "FX-5kJi7eo2C"
      }
    },
    {
      "cell_type": "code",
      "source": [
        "data = pd.read_csv('/content/data_cleaned.csv')\n",
        "\n",
        "data.head()"
      ],
      "metadata": {
        "colab": {
          "base_uri": "https://localhost:8080/",
          "height": 206
        },
        "id": "Pi78GGHYeeg0",
        "outputId": "b064e943-3c1e-4c13-e40f-0708bfed3575"
      },
      "execution_count": 15,
      "outputs": [
        {
          "output_type": "execute_result",
          "data": {
            "text/plain": [
              "   Unnamed: 0  label                                              tweet\n",
              "0           0      0    when a father is dysfunctional and is so sel...\n",
              "1           1      0    thanks for lyft credit i cant use cause they...\n",
              "2           2      0                                bihday your majesty\n",
              "3           3      0  model   i love u take with u all the time in u...\n",
              "4           4      0               factsguide society now    motivation"
            ],
            "text/html": [
              "\n",
              "  <div id=\"df-98f95e37-3712-44a2-adf3-c895d5354f37\">\n",
              "    <div class=\"colab-df-container\">\n",
              "      <div>\n",
              "<style scoped>\n",
              "    .dataframe tbody tr th:only-of-type {\n",
              "        vertical-align: middle;\n",
              "    }\n",
              "\n",
              "    .dataframe tbody tr th {\n",
              "        vertical-align: top;\n",
              "    }\n",
              "\n",
              "    .dataframe thead th {\n",
              "        text-align: right;\n",
              "    }\n",
              "</style>\n",
              "<table border=\"1\" class=\"dataframe\">\n",
              "  <thead>\n",
              "    <tr style=\"text-align: right;\">\n",
              "      <th></th>\n",
              "      <th>Unnamed: 0</th>\n",
              "      <th>label</th>\n",
              "      <th>tweet</th>\n",
              "    </tr>\n",
              "  </thead>\n",
              "  <tbody>\n",
              "    <tr>\n",
              "      <th>0</th>\n",
              "      <td>0</td>\n",
              "      <td>0</td>\n",
              "      <td>when a father is dysfunctional and is so sel...</td>\n",
              "    </tr>\n",
              "    <tr>\n",
              "      <th>1</th>\n",
              "      <td>1</td>\n",
              "      <td>0</td>\n",
              "      <td>thanks for lyft credit i cant use cause they...</td>\n",
              "    </tr>\n",
              "    <tr>\n",
              "      <th>2</th>\n",
              "      <td>2</td>\n",
              "      <td>0</td>\n",
              "      <td>bihday your majesty</td>\n",
              "    </tr>\n",
              "    <tr>\n",
              "      <th>3</th>\n",
              "      <td>3</td>\n",
              "      <td>0</td>\n",
              "      <td>model   i love u take with u all the time in u...</td>\n",
              "    </tr>\n",
              "    <tr>\n",
              "      <th>4</th>\n",
              "      <td>4</td>\n",
              "      <td>0</td>\n",
              "      <td>factsguide society now    motivation</td>\n",
              "    </tr>\n",
              "  </tbody>\n",
              "</table>\n",
              "</div>\n",
              "      <button class=\"colab-df-convert\" onclick=\"convertToInteractive('df-98f95e37-3712-44a2-adf3-c895d5354f37')\"\n",
              "              title=\"Convert this dataframe to an interactive table.\"\n",
              "              style=\"display:none;\">\n",
              "        \n",
              "  <svg xmlns=\"http://www.w3.org/2000/svg\" height=\"24px\"viewBox=\"0 0 24 24\"\n",
              "       width=\"24px\">\n",
              "    <path d=\"M0 0h24v24H0V0z\" fill=\"none\"/>\n",
              "    <path d=\"M18.56 5.44l.94 2.06.94-2.06 2.06-.94-2.06-.94-.94-2.06-.94 2.06-2.06.94zm-11 1L8.5 8.5l.94-2.06 2.06-.94-2.06-.94L8.5 2.5l-.94 2.06-2.06.94zm10 10l.94 2.06.94-2.06 2.06-.94-2.06-.94-.94-2.06-.94 2.06-2.06.94z\"/><path d=\"M17.41 7.96l-1.37-1.37c-.4-.4-.92-.59-1.43-.59-.52 0-1.04.2-1.43.59L10.3 9.45l-7.72 7.72c-.78.78-.78 2.05 0 2.83L4 21.41c.39.39.9.59 1.41.59.51 0 1.02-.2 1.41-.59l7.78-7.78 2.81-2.81c.8-.78.8-2.07 0-2.86zM5.41 20L4 18.59l7.72-7.72 1.47 1.35L5.41 20z\"/>\n",
              "  </svg>\n",
              "      </button>\n",
              "      \n",
              "  <style>\n",
              "    .colab-df-container {\n",
              "      display:flex;\n",
              "      flex-wrap:wrap;\n",
              "      gap: 12px;\n",
              "    }\n",
              "\n",
              "    .colab-df-convert {\n",
              "      background-color: #E8F0FE;\n",
              "      border: none;\n",
              "      border-radius: 50%;\n",
              "      cursor: pointer;\n",
              "      display: none;\n",
              "      fill: #1967D2;\n",
              "      height: 32px;\n",
              "      padding: 0 0 0 0;\n",
              "      width: 32px;\n",
              "    }\n",
              "\n",
              "    .colab-df-convert:hover {\n",
              "      background-color: #E2EBFA;\n",
              "      box-shadow: 0px 1px 2px rgba(60, 64, 67, 0.3), 0px 1px 3px 1px rgba(60, 64, 67, 0.15);\n",
              "      fill: #174EA6;\n",
              "    }\n",
              "\n",
              "    [theme=dark] .colab-df-convert {\n",
              "      background-color: #3B4455;\n",
              "      fill: #D2E3FC;\n",
              "    }\n",
              "\n",
              "    [theme=dark] .colab-df-convert:hover {\n",
              "      background-color: #434B5C;\n",
              "      box-shadow: 0px 1px 3px 1px rgba(0, 0, 0, 0.15);\n",
              "      filter: drop-shadow(0px 1px 2px rgba(0, 0, 0, 0.3));\n",
              "      fill: #FFFFFF;\n",
              "    }\n",
              "  </style>\n",
              "\n",
              "      <script>\n",
              "        const buttonEl =\n",
              "          document.querySelector('#df-98f95e37-3712-44a2-adf3-c895d5354f37 button.colab-df-convert');\n",
              "        buttonEl.style.display =\n",
              "          google.colab.kernel.accessAllowed ? 'block' : 'none';\n",
              "\n",
              "        async function convertToInteractive(key) {\n",
              "          const element = document.querySelector('#df-98f95e37-3712-44a2-adf3-c895d5354f37');\n",
              "          const dataTable =\n",
              "            await google.colab.kernel.invokeFunction('convertToInteractive',\n",
              "                                                     [key], {});\n",
              "          if (!dataTable) return;\n",
              "\n",
              "          const docLinkHtml = 'Like what you see? Visit the ' +\n",
              "            '<a target=\"_blank\" href=https://colab.research.google.com/notebooks/data_table.ipynb>data table notebook</a>'\n",
              "            + ' to learn more about interactive tables.';\n",
              "          element.innerHTML = '';\n",
              "          dataTable['output_type'] = 'display_data';\n",
              "          await google.colab.output.renderOutput(dataTable, element);\n",
              "          const docLink = document.createElement('div');\n",
              "          docLink.innerHTML = docLinkHtml;\n",
              "          element.appendChild(docLink);\n",
              "        }\n",
              "      </script>\n",
              "    </div>\n",
              "  </div>\n",
              "  "
            ]
          },
          "metadata": {},
          "execution_count": 15
        }
      ]
    },
    {
      "cell_type": "markdown",
      "source": [
        "## EDA : show samples of data texts to find out required preprocessing steps"
      ],
      "metadata": {
        "id": "AXf4uyjHftcF"
      }
    },
    {
      "cell_type": "code",
      "source": [
        "print(data['tweet'][0], '\\n')\n",
        "print(data['tweet'][1], '\\n')\n",
        "print(data['tweet'][2], '\\n')\n",
        "print(data['tweet'][3], '\\n')\n",
        "print(data['tweet'][4], '\\n')\n",
        "print(data['tweet'][50], '\\n')"
      ],
      "metadata": {
        "colab": {
          "base_uri": "https://localhost:8080/"
        },
        "id": "HnpygiIxeeif",
        "outputId": "52658f2c-7c41-468b-e9de-aea7c35768bb"
      },
      "execution_count": 16,
      "outputs": [
        {
          "output_type": "stream",
          "name": "stdout",
          "text": [
            "  when a father is dysfunctional and is so selfish he drags his kids into his dysfunction   run \n",
            "\n",
            "  thanks for lyft credit i cant use cause they dont offer wheelchair vans in pdx    disapointed getthanked \n",
            "\n",
            "  bihday your majesty \n",
            "\n",
            "model   i love u take with u all the time in ur             \n",
            "\n",
            " factsguide society now    motivation \n",
            "\n",
            "for her bihday we got her a nose job            bihday petunia we love you    \n",
            "\n"
          ]
        }
      ]
    },
    {
      "cell_type": "markdown",
      "source": [
        "## split datasets"
      ],
      "metadata": {
        "id": "tbsLxGTlhW8M"
      }
    },
    {
      "cell_type": "code",
      "source": [
        "# get features and labels\n",
        "X = data['tweet']\n",
        "Y = data['label']"
      ],
      "metadata": {
        "id": "RYlGOotxhV9s"
      },
      "execution_count": 17,
      "outputs": []
    },
    {
      "cell_type": "code",
      "source": [
        "x_train, x_test, y_train, y_test = train_test_split(X, Y, test_size=.2, stratify=Y, random_state=42)\n",
        "\n",
        "print(\"Size of x_train:\", (x_train.shape))\n",
        "print(\"Size of y_train:\", (y_train.shape))\n",
        "print(\"Size of x_test: \", (x_test.shape))\n",
        "print(\"Size of y_test: \", (y_test.shape))"
      ],
      "metadata": {
        "colab": {
          "base_uri": "https://localhost:8080/"
        },
        "id": "UtCWoDcfhVxH",
        "outputId": "28b922ad-d396-43f7-91f5-c6ccf486f9fa"
      },
      "execution_count": 49,
      "outputs": [
        {
          "output_type": "stream",
          "name": "stdout",
          "text": [
            "Size of x_train: (23624,)\n",
            "Size of y_train: (23624,)\n",
            "Size of x_test:  (5906,)\n",
            "Size of y_test:  (5906,)\n"
          ]
        }
      ]
    },
    {
      "cell_type": "markdown",
      "source": [
        "## tokinize text "
      ],
      "metadata": {
        "id": "3cxP9TYFsVpu"
      }
    },
    {
      "cell_type": "code",
      "source": [
        "def text2words(text):\n",
        "  return word_tokenize(text)"
      ],
      "metadata": {
        "id": "1NOUcuv2r8z8"
      },
      "execution_count": 50,
      "outputs": []
    },
    {
      "cell_type": "code",
      "source": [
        "train_text = [text2words(t) for t in x_train]\n",
        "test_text = [text2words(t) for t in x_test]"
      ],
      "metadata": {
        "id": "f2UG9RcMsTAP"
      },
      "execution_count": 51,
      "outputs": []
    },
    {
      "cell_type": "code",
      "source": [
        "train_text[0]"
      ],
      "metadata": {
        "colab": {
          "base_uri": "https://localhost:8080/"
        },
        "id": "k84-j0zothGI",
        "outputId": "524917e5-1174-4cb2-e553-23fea4ff5c7a"
      },
      "execution_count": 52,
      "outputs": [
        {
          "output_type": "execute_result",
          "data": {
            "text/plain": [
              "['its',\n",
              " 'actually',\n",
              " 'stopped',\n",
              " 'rainingfor',\n",
              " 'nowso',\n",
              " 'bike',\n",
              " 'ride',\n",
              " 'it',\n",
              " 'is',\n",
              " 'then',\n",
              " 'cycling',\n",
              " 'mtb']"
            ]
          },
          "metadata": {},
          "execution_count": 52
        }
      ]
    },
    {
      "cell_type": "markdown",
      "source": [
        "## prepare data for RNN"
      ],
      "metadata": {
        "id": "hRJiSuNStlvk"
      }
    },
    {
      "cell_type": "code",
      "source": [
        "vocab_sz = 1000\n",
        "tok = Tokenizer(num_words=vocab_sz, oov_token='UNK')\n",
        "texts = train_text + test_text\n",
        "tok.fit_on_texts(texts)"
      ],
      "metadata": {
        "id": "fQz2L0bJtgJv"
      },
      "execution_count": 53,
      "outputs": []
    },
    {
      "cell_type": "code",
      "source": [
        "x_train_prep = tok.texts_to_sequences(train_text)\n",
        "x_test_prep = tok.texts_to_sequences(test_text)\n",
        "y_train = np.asarray(y_train).astype('float32')\n",
        "y_test = np.asarray(y_test).astype('float32')"
      ],
      "metadata": {
        "id": "Lm9w8zEQtgQB"
      },
      "execution_count": 54,
      "outputs": []
    },
    {
      "cell_type": "markdown",
      "source": [
        "## pad x_train to make sure they are all of the same length"
      ],
      "metadata": {
        "id": "uFIoVyuthmFp"
      }
    },
    {
      "cell_type": "code",
      "source": [
        "def pad_seq(seq, maxlen):  \n",
        "  return np.array(pad_sequences(seq, maxlen=maxlen, padding='post', truncating='post'))"
      ],
      "metadata": {
        "id": "o4U47xpWvSzG"
      },
      "execution_count": 55,
      "outputs": []
    },
    {
      "cell_type": "code",
      "source": [
        "max_sequence_len = 0\n",
        "\n",
        "for sentence in x_train:\n",
        "    max_sequence_len = max(len(sentence), max_sequence_len)\n",
        "  \n",
        "print(max_sequence_len)"
      ],
      "metadata": {
        "colab": {
          "base_uri": "https://localhost:8080/"
        },
        "id": "NSy5qXc1zD8W",
        "outputId": "a0c17a41-3900-48c2-cc8d-22d521b92fc1"
      },
      "execution_count": 56,
      "outputs": [
        {
          "output_type": "stream",
          "name": "stdout",
          "text": [
            "138\n"
          ]
        }
      ]
    },
    {
      "cell_type": "code",
      "source": [
        "#maxlen = 138\n",
        "\n",
        "x_train = pad_seq(x_train_prep,max_sequence_len)\n",
        "x_test = pad_seq(x_test_prep, max_sequence_len)"
      ],
      "metadata": {
        "id": "QyXzKf0Fvdm-"
      },
      "execution_count": 57,
      "outputs": []
    },
    {
      "cell_type": "code",
      "source": [
        "print(x_train.shape)\n",
        "print(x_test.shape)"
      ],
      "metadata": {
        "colab": {
          "base_uri": "https://localhost:8080/"
        },
        "id": "Y578txsewPUo",
        "outputId": "43a94b7e-c03a-4af1-e705-bdeabd3f6cc8"
      },
      "execution_count": 59,
      "outputs": [
        {
          "output_type": "stream",
          "name": "stdout",
          "text": [
            "(23624, 138)\n",
            "(5906, 138)\n"
          ]
        }
      ]
    },
    {
      "cell_type": "code",
      "source": [
        "x_train[0]"
      ],
      "metadata": {
        "colab": {
          "base_uri": "https://localhost:8080/"
        },
        "id": "mj1k93qpxx7P",
        "outputId": "75d6c3c8-08ad-4406-fde7-0ccde553da2a"
      },
      "execution_count": 61,
      "outputs": [
        {
          "output_type": "execute_result",
          "data": {
            "text/plain": [
              "array([ 33, 507,   1,   1,   1,   1, 812,  17,  11, 170,   1,   1,   0,\n",
              "         0,   0,   0,   0,   0,   0,   0,   0,   0,   0,   0,   0,   0,\n",
              "         0,   0,   0,   0,   0,   0,   0,   0,   0,   0,   0,   0,   0,\n",
              "         0,   0,   0,   0,   0,   0,   0,   0,   0,   0,   0,   0,   0,\n",
              "         0,   0,   0,   0,   0,   0,   0,   0,   0,   0,   0,   0,   0,\n",
              "         0,   0,   0,   0,   0,   0,   0,   0,   0,   0,   0,   0,   0,\n",
              "         0,   0,   0,   0,   0,   0,   0,   0,   0,   0,   0,   0,   0,\n",
              "         0,   0,   0,   0,   0,   0,   0,   0,   0,   0,   0,   0,   0,\n",
              "         0,   0,   0,   0,   0,   0,   0,   0,   0,   0,   0,   0,   0,\n",
              "         0,   0,   0,   0,   0,   0,   0,   0,   0,   0,   0,   0,   0,\n",
              "         0,   0,   0,   0,   0,   0,   0,   0], dtype=int32)"
            ]
          },
          "metadata": {},
          "execution_count": 61
        }
      ]
    },
    {
      "cell_type": "markdown",
      "source": [
        "## simple RNN Model"
      ],
      "metadata": {
        "id": "swBNVVI4ibmu"
      }
    },
    {
      "cell_type": "code",
      "source": [
        "model = tf.keras.models.Sequential([    \n",
        "    tf.keras.layers.Embedding(vocab_sz, 512),\n",
        "    tf.keras.layers.SimpleRNN(512),\n",
        "    tf.keras.layers.Dense(512, activation='relu'),\n",
        "    tf.keras.layers.Dense(1, activation='sigmoid')\n",
        "])"
      ],
      "metadata": {
        "id": "jMNoOprrilEt"
      },
      "execution_count": 62,
      "outputs": []
    },
    {
      "cell_type": "code",
      "source": [
        "model.summary()"
      ],
      "metadata": {
        "colab": {
          "base_uri": "https://localhost:8080/"
        },
        "id": "YDdPsnB6ilG0",
        "outputId": "934bcab5-50bc-4f75-bbad-4ab8525b699b"
      },
      "execution_count": 63,
      "outputs": [
        {
          "output_type": "stream",
          "name": "stdout",
          "text": [
            "Model: \"sequential_1\"\n",
            "_________________________________________________________________\n",
            " Layer (type)                Output Shape              Param #   \n",
            "=================================================================\n",
            " embedding_1 (Embedding)     (None, None, 512)         512000    \n",
            "                                                                 \n",
            " simple_rnn_1 (SimpleRNN)    (None, 512)               524800    \n",
            "                                                                 \n",
            " dense_2 (Dense)             (None, 512)               262656    \n",
            "                                                                 \n",
            " dense_3 (Dense)             (None, 1)                 513       \n",
            "                                                                 \n",
            "=================================================================\n",
            "Total params: 1,299,969\n",
            "Trainable params: 1,299,969\n",
            "Non-trainable params: 0\n",
            "_________________________________________________________________\n"
          ]
        }
      ]
    },
    {
      "cell_type": "code",
      "source": [
        "model.compile(loss=tf.keras.losses.BinaryCrossentropy(),\n",
        "              optimizer=tf.keras.optimizers.Adam(),\n",
        "              metrics=['accuracy'])"
      ],
      "metadata": {
        "id": "e_DA9QAziqpk"
      },
      "execution_count": 64,
      "outputs": []
    },
    {
      "cell_type": "code",
      "source": [
        "history = model.fit(x_train, y_train, epochs=5, batch_size=128,\n",
        "                    validation_data=(x_test, y_test), \n",
        "                    validation_steps=30)"
      ],
      "metadata": {
        "colab": {
          "base_uri": "https://localhost:8080/"
        },
        "id": "gyLj-udDyVce",
        "outputId": "b6083320-8144-4004-9f79-7e23b6dcfbe2"
      },
      "execution_count": 65,
      "outputs": [
        {
          "output_type": "stream",
          "name": "stdout",
          "text": [
            "Epoch 1/5\n",
            "185/185 [==============================] - 31s 165ms/step - loss: 0.2636 - accuracy: 0.9317 - val_loss: 0.2626 - val_accuracy: 0.9305\n",
            "Epoch 2/5\n",
            "185/185 [==============================] - 31s 168ms/step - loss: 0.2549 - accuracy: 0.9318 - val_loss: 0.2625 - val_accuracy: 0.9305\n",
            "Epoch 3/5\n",
            "185/185 [==============================] - 29s 158ms/step - loss: 0.2555 - accuracy: 0.9318 - val_loss: 0.2534 - val_accuracy: 0.9305\n",
            "Epoch 4/5\n",
            "185/185 [==============================] - 30s 164ms/step - loss: 0.2662 - accuracy: 0.9317 - val_loss: 0.2702 - val_accuracy: 0.9305\n",
            "Epoch 5/5\n",
            "185/185 [==============================] - 29s 158ms/step - loss: 0.2575 - accuracy: 0.9318 - val_loss: 0.2548 - val_accuracy: 0.9305\n"
          ]
        }
      ]
    },
    {
      "cell_type": "code",
      "source": [
        "test_loss, test_acc = model.evaluate(x_test, y_test)\n",
        "\n",
        "print('Test Loss: {}'.format(test_loss))\n",
        "print('Test Accuracy: {}'.format(test_acc))"
      ],
      "metadata": {
        "colab": {
          "base_uri": "https://localhost:8080/"
        },
        "id": "qL1miaMTiqr0",
        "outputId": "ad2cd676-66ff-44a9-967e-561d78f1c970"
      },
      "execution_count": 66,
      "outputs": [
        {
          "output_type": "stream",
          "name": "stdout",
          "text": [
            "185/185 [==============================] - 3s 18ms/step - loss: 0.2528 - accuracy: 0.9318\n",
            "Test Loss: 0.25278154015541077\n",
            "Test Accuracy: 0.9317643046379089\n"
          ]
        }
      ]
    }
  ]
}